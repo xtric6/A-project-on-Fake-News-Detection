{
 "cells": [
  {
   "cell_type": "markdown",
   "id": "c8205585",
   "metadata": {},
   "source": [
    "### FAKE NEWS DETECTION"
   ]
  },
  {
   "cell_type": "markdown",
   "id": "b7203233",
   "metadata": {},
   "source": [
    "##### importing the libraries"
   ]
  },
  {
   "cell_type": "code",
   "execution_count": 1,
   "id": "1bd00abc",
   "metadata": {},
   "outputs": [],
   "source": [
    "import pandas as pd\n",
    "import numpy as np\n",
    "import seaborn as sns\n",
    "import matplotlib.pyplot as plt\n",
    "from sklearn.model_selection import train_test_split\n",
    "from sklearn.metrics import accuracy_score\n",
    "from sklearn.metrics import classification_report\n",
    "import re\n",
    "import string\n",
    "import nltk"
   ]
  },
  {
   "cell_type": "code",
   "execution_count": 2,
   "id": "3710a760",
   "metadata": {},
   "outputs": [],
   "source": [
    "from nltk.stem.porter import PorterStemmer"
   ]
  },
  {
   "cell_type": "code",
   "execution_count": 3,
   "id": "650506b4",
   "metadata": {},
   "outputs": [],
   "source": [
    "# nltk.download()"
   ]
  },
  {
   "cell_type": "code",
   "execution_count": 4,
   "id": "c7fea856",
   "metadata": {},
   "outputs": [
    {
     "name": "stderr",
     "output_type": "stream",
     "text": [
      "[nltk_data] Downloading package stopwords to\n",
      "[nltk_data]     C:\\Users\\USER\\AppData\\Roaming\\nltk_data...\n",
      "[nltk_data]   Package stopwords is already up-to-date!\n"
     ]
    }
   ],
   "source": [
    "nltk.download('stopwords')\n",
    "from nltk.corpus import stopwords\n",
    "STOPWORDS = set(stopwords.words('english'))"
   ]
  },
  {
   "cell_type": "code",
   "execution_count": 5,
   "id": "8d33b7b1",
   "metadata": {},
   "outputs": [],
   "source": [
    "df_fake = pd.read_csv(\"Fake.csv\")\n",
    "df_true = pd.read_csv(\"True.csv\")"
   ]
  },
  {
   "cell_type": "code",
   "execution_count": 6,
   "id": "5dbacd03",
   "metadata": {},
   "outputs": [
    {
     "data": {
      "text/html": [
       "<div>\n",
       "<style scoped>\n",
       "    .dataframe tbody tr th:only-of-type {\n",
       "        vertical-align: middle;\n",
       "    }\n",
       "\n",
       "    .dataframe tbody tr th {\n",
       "        vertical-align: top;\n",
       "    }\n",
       "\n",
       "    .dataframe thead th {\n",
       "        text-align: right;\n",
       "    }\n",
       "</style>\n",
       "<table border=\"1\" class=\"dataframe\">\n",
       "  <thead>\n",
       "    <tr style=\"text-align: right;\">\n",
       "      <th></th>\n",
       "      <th>title</th>\n",
       "      <th>text</th>\n",
       "      <th>subject</th>\n",
       "      <th>date</th>\n",
       "    </tr>\n",
       "  </thead>\n",
       "  <tbody>\n",
       "    <tr>\n",
       "      <th>0</th>\n",
       "      <td>Donald Trump Sends Out Embarrassing New Year’...</td>\n",
       "      <td>Donald Trump just couldn t wish all Americans ...</td>\n",
       "      <td>News</td>\n",
       "      <td>December 31, 2017</td>\n",
       "    </tr>\n",
       "    <tr>\n",
       "      <th>1</th>\n",
       "      <td>Drunk Bragging Trump Staffer Started Russian ...</td>\n",
       "      <td>House Intelligence Committee Chairman Devin Nu...</td>\n",
       "      <td>News</td>\n",
       "      <td>December 31, 2017</td>\n",
       "    </tr>\n",
       "    <tr>\n",
       "      <th>2</th>\n",
       "      <td>Sheriff David Clarke Becomes An Internet Joke...</td>\n",
       "      <td>On Friday, it was revealed that former Milwauk...</td>\n",
       "      <td>News</td>\n",
       "      <td>December 30, 2017</td>\n",
       "    </tr>\n",
       "    <tr>\n",
       "      <th>3</th>\n",
       "      <td>Trump Is So Obsessed He Even Has Obama’s Name...</td>\n",
       "      <td>On Christmas day, Donald Trump announced that ...</td>\n",
       "      <td>News</td>\n",
       "      <td>December 29, 2017</td>\n",
       "    </tr>\n",
       "    <tr>\n",
       "      <th>4</th>\n",
       "      <td>Pope Francis Just Called Out Donald Trump Dur...</td>\n",
       "      <td>Pope Francis used his annual Christmas Day mes...</td>\n",
       "      <td>News</td>\n",
       "      <td>December 25, 2017</td>\n",
       "    </tr>\n",
       "  </tbody>\n",
       "</table>\n",
       "</div>"
      ],
      "text/plain": [
       "                                               title  \\\n",
       "0   Donald Trump Sends Out Embarrassing New Year’...   \n",
       "1   Drunk Bragging Trump Staffer Started Russian ...   \n",
       "2   Sheriff David Clarke Becomes An Internet Joke...   \n",
       "3   Trump Is So Obsessed He Even Has Obama’s Name...   \n",
       "4   Pope Francis Just Called Out Donald Trump Dur...   \n",
       "\n",
       "                                                text subject  \\\n",
       "0  Donald Trump just couldn t wish all Americans ...    News   \n",
       "1  House Intelligence Committee Chairman Devin Nu...    News   \n",
       "2  On Friday, it was revealed that former Milwauk...    News   \n",
       "3  On Christmas day, Donald Trump announced that ...    News   \n",
       "4  Pope Francis used his annual Christmas Day mes...    News   \n",
       "\n",
       "                date  \n",
       "0  December 31, 2017  \n",
       "1  December 31, 2017  \n",
       "2  December 30, 2017  \n",
       "3  December 29, 2017  \n",
       "4  December 25, 2017  "
      ]
     },
     "execution_count": 6,
     "metadata": {},
     "output_type": "execute_result"
    }
   ],
   "source": [
    "df_fake.head()"
   ]
  },
  {
   "cell_type": "code",
   "execution_count": 7,
   "id": "9b738140",
   "metadata": {},
   "outputs": [
    {
     "data": {
      "text/html": [
       "<div>\n",
       "<style scoped>\n",
       "    .dataframe tbody tr th:only-of-type {\n",
       "        vertical-align: middle;\n",
       "    }\n",
       "\n",
       "    .dataframe tbody tr th {\n",
       "        vertical-align: top;\n",
       "    }\n",
       "\n",
       "    .dataframe thead th {\n",
       "        text-align: right;\n",
       "    }\n",
       "</style>\n",
       "<table border=\"1\" class=\"dataframe\">\n",
       "  <thead>\n",
       "    <tr style=\"text-align: right;\">\n",
       "      <th></th>\n",
       "      <th>title</th>\n",
       "      <th>text</th>\n",
       "      <th>subject</th>\n",
       "      <th>date</th>\n",
       "    </tr>\n",
       "  </thead>\n",
       "  <tbody>\n",
       "    <tr>\n",
       "      <th>0</th>\n",
       "      <td>As U.S. budget fight looms, Republicans flip t...</td>\n",
       "      <td>WASHINGTON (Reuters) - The head of a conservat...</td>\n",
       "      <td>politicsNews</td>\n",
       "      <td>December 31, 2017</td>\n",
       "    </tr>\n",
       "    <tr>\n",
       "      <th>1</th>\n",
       "      <td>U.S. military to accept transgender recruits o...</td>\n",
       "      <td>WASHINGTON (Reuters) - Transgender people will...</td>\n",
       "      <td>politicsNews</td>\n",
       "      <td>December 29, 2017</td>\n",
       "    </tr>\n",
       "    <tr>\n",
       "      <th>2</th>\n",
       "      <td>Senior U.S. Republican senator: 'Let Mr. Muell...</td>\n",
       "      <td>WASHINGTON (Reuters) - The special counsel inv...</td>\n",
       "      <td>politicsNews</td>\n",
       "      <td>December 31, 2017</td>\n",
       "    </tr>\n",
       "    <tr>\n",
       "      <th>3</th>\n",
       "      <td>FBI Russia probe helped by Australian diplomat...</td>\n",
       "      <td>WASHINGTON (Reuters) - Trump campaign adviser ...</td>\n",
       "      <td>politicsNews</td>\n",
       "      <td>December 30, 2017</td>\n",
       "    </tr>\n",
       "    <tr>\n",
       "      <th>4</th>\n",
       "      <td>Trump wants Postal Service to charge 'much mor...</td>\n",
       "      <td>SEATTLE/WASHINGTON (Reuters) - President Donal...</td>\n",
       "      <td>politicsNews</td>\n",
       "      <td>December 29, 2017</td>\n",
       "    </tr>\n",
       "  </tbody>\n",
       "</table>\n",
       "</div>"
      ],
      "text/plain": [
       "                                               title  \\\n",
       "0  As U.S. budget fight looms, Republicans flip t...   \n",
       "1  U.S. military to accept transgender recruits o...   \n",
       "2  Senior U.S. Republican senator: 'Let Mr. Muell...   \n",
       "3  FBI Russia probe helped by Australian diplomat...   \n",
       "4  Trump wants Postal Service to charge 'much mor...   \n",
       "\n",
       "                                                text       subject  \\\n",
       "0  WASHINGTON (Reuters) - The head of a conservat...  politicsNews   \n",
       "1  WASHINGTON (Reuters) - Transgender people will...  politicsNews   \n",
       "2  WASHINGTON (Reuters) - The special counsel inv...  politicsNews   \n",
       "3  WASHINGTON (Reuters) - Trump campaign adviser ...  politicsNews   \n",
       "4  SEATTLE/WASHINGTON (Reuters) - President Donal...  politicsNews   \n",
       "\n",
       "                 date  \n",
       "0  December 31, 2017   \n",
       "1  December 29, 2017   \n",
       "2  December 31, 2017   \n",
       "3  December 30, 2017   \n",
       "4  December 29, 2017   "
      ]
     },
     "execution_count": 7,
     "metadata": {},
     "output_type": "execute_result"
    }
   ],
   "source": [
    "df_true.head()"
   ]
  },
  {
   "cell_type": "code",
   "execution_count": 8,
   "id": "db005ae8",
   "metadata": {},
   "outputs": [],
   "source": [
    "df_fake[\"class\"] = 0\n",
    "df_true[\"class\"] = 1 #creating a class column this will serve as the label of the data"
   ]
  },
  {
   "cell_type": "code",
   "execution_count": 9,
   "id": "02313994",
   "metadata": {},
   "outputs": [
    {
     "data": {
      "text/html": [
       "<div>\n",
       "<style scoped>\n",
       "    .dataframe tbody tr th:only-of-type {\n",
       "        vertical-align: middle;\n",
       "    }\n",
       "\n",
       "    .dataframe tbody tr th {\n",
       "        vertical-align: top;\n",
       "    }\n",
       "\n",
       "    .dataframe thead th {\n",
       "        text-align: right;\n",
       "    }\n",
       "</style>\n",
       "<table border=\"1\" class=\"dataframe\">\n",
       "  <thead>\n",
       "    <tr style=\"text-align: right;\">\n",
       "      <th></th>\n",
       "      <th>title</th>\n",
       "      <th>text</th>\n",
       "      <th>subject</th>\n",
       "      <th>date</th>\n",
       "      <th>class</th>\n",
       "    </tr>\n",
       "  </thead>\n",
       "  <tbody>\n",
       "    <tr>\n",
       "      <th>0</th>\n",
       "      <td>As U.S. budget fight looms, Republicans flip t...</td>\n",
       "      <td>WASHINGTON (Reuters) - The head of a conservat...</td>\n",
       "      <td>politicsNews</td>\n",
       "      <td>December 31, 2017</td>\n",
       "      <td>1</td>\n",
       "    </tr>\n",
       "    <tr>\n",
       "      <th>1</th>\n",
       "      <td>U.S. military to accept transgender recruits o...</td>\n",
       "      <td>WASHINGTON (Reuters) - Transgender people will...</td>\n",
       "      <td>politicsNews</td>\n",
       "      <td>December 29, 2017</td>\n",
       "      <td>1</td>\n",
       "    </tr>\n",
       "    <tr>\n",
       "      <th>2</th>\n",
       "      <td>Senior U.S. Republican senator: 'Let Mr. Muell...</td>\n",
       "      <td>WASHINGTON (Reuters) - The special counsel inv...</td>\n",
       "      <td>politicsNews</td>\n",
       "      <td>December 31, 2017</td>\n",
       "      <td>1</td>\n",
       "    </tr>\n",
       "    <tr>\n",
       "      <th>3</th>\n",
       "      <td>FBI Russia probe helped by Australian diplomat...</td>\n",
       "      <td>WASHINGTON (Reuters) - Trump campaign adviser ...</td>\n",
       "      <td>politicsNews</td>\n",
       "      <td>December 30, 2017</td>\n",
       "      <td>1</td>\n",
       "    </tr>\n",
       "    <tr>\n",
       "      <th>4</th>\n",
       "      <td>Trump wants Postal Service to charge 'much mor...</td>\n",
       "      <td>SEATTLE/WASHINGTON (Reuters) - President Donal...</td>\n",
       "      <td>politicsNews</td>\n",
       "      <td>December 29, 2017</td>\n",
       "      <td>1</td>\n",
       "    </tr>\n",
       "  </tbody>\n",
       "</table>\n",
       "</div>"
      ],
      "text/plain": [
       "                                               title  \\\n",
       "0  As U.S. budget fight looms, Republicans flip t...   \n",
       "1  U.S. military to accept transgender recruits o...   \n",
       "2  Senior U.S. Republican senator: 'Let Mr. Muell...   \n",
       "3  FBI Russia probe helped by Australian diplomat...   \n",
       "4  Trump wants Postal Service to charge 'much mor...   \n",
       "\n",
       "                                                text       subject  \\\n",
       "0  WASHINGTON (Reuters) - The head of a conservat...  politicsNews   \n",
       "1  WASHINGTON (Reuters) - Transgender people will...  politicsNews   \n",
       "2  WASHINGTON (Reuters) - The special counsel inv...  politicsNews   \n",
       "3  WASHINGTON (Reuters) - Trump campaign adviser ...  politicsNews   \n",
       "4  SEATTLE/WASHINGTON (Reuters) - President Donal...  politicsNews   \n",
       "\n",
       "                 date  class  \n",
       "0  December 31, 2017       1  \n",
       "1  December 29, 2017       1  \n",
       "2  December 31, 2017       1  \n",
       "3  December 30, 2017       1  \n",
       "4  December 29, 2017       1  "
      ]
     },
     "execution_count": 9,
     "metadata": {},
     "output_type": "execute_result"
    }
   ],
   "source": [
    "df_true.head()"
   ]
  },
  {
   "cell_type": "code",
   "execution_count": 10,
   "id": "103c11f3",
   "metadata": {},
   "outputs": [
    {
     "data": {
      "text/html": [
       "<div>\n",
       "<style scoped>\n",
       "    .dataframe tbody tr th:only-of-type {\n",
       "        vertical-align: middle;\n",
       "    }\n",
       "\n",
       "    .dataframe tbody tr th {\n",
       "        vertical-align: top;\n",
       "    }\n",
       "\n",
       "    .dataframe thead th {\n",
       "        text-align: right;\n",
       "    }\n",
       "</style>\n",
       "<table border=\"1\" class=\"dataframe\">\n",
       "  <thead>\n",
       "    <tr style=\"text-align: right;\">\n",
       "      <th></th>\n",
       "      <th>title</th>\n",
       "      <th>text</th>\n",
       "      <th>subject</th>\n",
       "      <th>date</th>\n",
       "      <th>class</th>\n",
       "    </tr>\n",
       "  </thead>\n",
       "  <tbody>\n",
       "    <tr>\n",
       "      <th>0</th>\n",
       "      <td>Donald Trump Sends Out Embarrassing New Year’...</td>\n",
       "      <td>Donald Trump just couldn t wish all Americans ...</td>\n",
       "      <td>News</td>\n",
       "      <td>December 31, 2017</td>\n",
       "      <td>0</td>\n",
       "    </tr>\n",
       "    <tr>\n",
       "      <th>1</th>\n",
       "      <td>Drunk Bragging Trump Staffer Started Russian ...</td>\n",
       "      <td>House Intelligence Committee Chairman Devin Nu...</td>\n",
       "      <td>News</td>\n",
       "      <td>December 31, 2017</td>\n",
       "      <td>0</td>\n",
       "    </tr>\n",
       "    <tr>\n",
       "      <th>2</th>\n",
       "      <td>Sheriff David Clarke Becomes An Internet Joke...</td>\n",
       "      <td>On Friday, it was revealed that former Milwauk...</td>\n",
       "      <td>News</td>\n",
       "      <td>December 30, 2017</td>\n",
       "      <td>0</td>\n",
       "    </tr>\n",
       "    <tr>\n",
       "      <th>3</th>\n",
       "      <td>Trump Is So Obsessed He Even Has Obama’s Name...</td>\n",
       "      <td>On Christmas day, Donald Trump announced that ...</td>\n",
       "      <td>News</td>\n",
       "      <td>December 29, 2017</td>\n",
       "      <td>0</td>\n",
       "    </tr>\n",
       "    <tr>\n",
       "      <th>4</th>\n",
       "      <td>Pope Francis Just Called Out Donald Trump Dur...</td>\n",
       "      <td>Pope Francis used his annual Christmas Day mes...</td>\n",
       "      <td>News</td>\n",
       "      <td>December 25, 2017</td>\n",
       "      <td>0</td>\n",
       "    </tr>\n",
       "  </tbody>\n",
       "</table>\n",
       "</div>"
      ],
      "text/plain": [
       "                                               title  \\\n",
       "0   Donald Trump Sends Out Embarrassing New Year’...   \n",
       "1   Drunk Bragging Trump Staffer Started Russian ...   \n",
       "2   Sheriff David Clarke Becomes An Internet Joke...   \n",
       "3   Trump Is So Obsessed He Even Has Obama’s Name...   \n",
       "4   Pope Francis Just Called Out Donald Trump Dur...   \n",
       "\n",
       "                                                text subject  \\\n",
       "0  Donald Trump just couldn t wish all Americans ...    News   \n",
       "1  House Intelligence Committee Chairman Devin Nu...    News   \n",
       "2  On Friday, it was revealed that former Milwauk...    News   \n",
       "3  On Christmas day, Donald Trump announced that ...    News   \n",
       "4  Pope Francis used his annual Christmas Day mes...    News   \n",
       "\n",
       "                date  class  \n",
       "0  December 31, 2017      0  \n",
       "1  December 31, 2017      0  \n",
       "2  December 30, 2017      0  \n",
       "3  December 29, 2017      0  \n",
       "4  December 25, 2017      0  "
      ]
     },
     "execution_count": 10,
     "metadata": {},
     "output_type": "execute_result"
    }
   ],
   "source": [
    "df_fake.head()"
   ]
  },
  {
   "cell_type": "code",
   "execution_count": 11,
   "id": "b32f61ee",
   "metadata": {},
   "outputs": [
    {
     "data": {
      "text/plain": [
       "(23481, 5)"
      ]
     },
     "execution_count": 11,
     "metadata": {},
     "output_type": "execute_result"
    }
   ],
   "source": [
    "df_fake.shape"
   ]
  },
  {
   "cell_type": "code",
   "execution_count": 12,
   "id": "5c8dd545",
   "metadata": {},
   "outputs": [
    {
     "data": {
      "text/plain": [
       "(21417, 5)"
      ]
     },
     "execution_count": 12,
     "metadata": {},
     "output_type": "execute_result"
    }
   ],
   "source": [
    "df_true.shape"
   ]
  },
  {
   "cell_type": "code",
   "execution_count": 13,
   "id": "8c29464e",
   "metadata": {},
   "outputs": [],
   "source": [
    "df_merged = pd.concat([df_fake,df_true], axis = 0) #merging both dataframe frames into one dataframe"
   ]
  },
  {
   "cell_type": "code",
   "execution_count": 14,
   "id": "e9d5772f",
   "metadata": {},
   "outputs": [
    {
     "data": {
      "text/html": [
       "<div>\n",
       "<style scoped>\n",
       "    .dataframe tbody tr th:only-of-type {\n",
       "        vertical-align: middle;\n",
       "    }\n",
       "\n",
       "    .dataframe tbody tr th {\n",
       "        vertical-align: top;\n",
       "    }\n",
       "\n",
       "    .dataframe thead th {\n",
       "        text-align: right;\n",
       "    }\n",
       "</style>\n",
       "<table border=\"1\" class=\"dataframe\">\n",
       "  <thead>\n",
       "    <tr style=\"text-align: right;\">\n",
       "      <th></th>\n",
       "      <th>title</th>\n",
       "      <th>text</th>\n",
       "      <th>subject</th>\n",
       "      <th>date</th>\n",
       "      <th>class</th>\n",
       "    </tr>\n",
       "  </thead>\n",
       "  <tbody>\n",
       "    <tr>\n",
       "      <th>0</th>\n",
       "      <td>Donald Trump Sends Out Embarrassing New Year’...</td>\n",
       "      <td>Donald Trump just couldn t wish all Americans ...</td>\n",
       "      <td>News</td>\n",
       "      <td>December 31, 2017</td>\n",
       "      <td>0</td>\n",
       "    </tr>\n",
       "    <tr>\n",
       "      <th>1</th>\n",
       "      <td>Drunk Bragging Trump Staffer Started Russian ...</td>\n",
       "      <td>House Intelligence Committee Chairman Devin Nu...</td>\n",
       "      <td>News</td>\n",
       "      <td>December 31, 2017</td>\n",
       "      <td>0</td>\n",
       "    </tr>\n",
       "    <tr>\n",
       "      <th>2</th>\n",
       "      <td>Sheriff David Clarke Becomes An Internet Joke...</td>\n",
       "      <td>On Friday, it was revealed that former Milwauk...</td>\n",
       "      <td>News</td>\n",
       "      <td>December 30, 2017</td>\n",
       "      <td>0</td>\n",
       "    </tr>\n",
       "    <tr>\n",
       "      <th>3</th>\n",
       "      <td>Trump Is So Obsessed He Even Has Obama’s Name...</td>\n",
       "      <td>On Christmas day, Donald Trump announced that ...</td>\n",
       "      <td>News</td>\n",
       "      <td>December 29, 2017</td>\n",
       "      <td>0</td>\n",
       "    </tr>\n",
       "    <tr>\n",
       "      <th>4</th>\n",
       "      <td>Pope Francis Just Called Out Donald Trump Dur...</td>\n",
       "      <td>Pope Francis used his annual Christmas Day mes...</td>\n",
       "      <td>News</td>\n",
       "      <td>December 25, 2017</td>\n",
       "      <td>0</td>\n",
       "    </tr>\n",
       "    <tr>\n",
       "      <th>5</th>\n",
       "      <td>Racist Alabama Cops Brutalize Black Boy While...</td>\n",
       "      <td>The number of cases of cops brutalizing and ki...</td>\n",
       "      <td>News</td>\n",
       "      <td>December 25, 2017</td>\n",
       "      <td>0</td>\n",
       "    </tr>\n",
       "    <tr>\n",
       "      <th>6</th>\n",
       "      <td>Fresh Off The Golf Course, Trump Lashes Out A...</td>\n",
       "      <td>Donald Trump spent a good portion of his day a...</td>\n",
       "      <td>News</td>\n",
       "      <td>December 23, 2017</td>\n",
       "      <td>0</td>\n",
       "    </tr>\n",
       "    <tr>\n",
       "      <th>7</th>\n",
       "      <td>Trump Said Some INSANELY Racist Stuff Inside ...</td>\n",
       "      <td>In the wake of yet another court decision that...</td>\n",
       "      <td>News</td>\n",
       "      <td>December 23, 2017</td>\n",
       "      <td>0</td>\n",
       "    </tr>\n",
       "    <tr>\n",
       "      <th>8</th>\n",
       "      <td>Former CIA Director Slams Trump Over UN Bully...</td>\n",
       "      <td>Many people have raised the alarm regarding th...</td>\n",
       "      <td>News</td>\n",
       "      <td>December 22, 2017</td>\n",
       "      <td>0</td>\n",
       "    </tr>\n",
       "    <tr>\n",
       "      <th>9</th>\n",
       "      <td>WATCH: Brand-New Pro-Trump Ad Features So Muc...</td>\n",
       "      <td>Just when you might have thought we d get a br...</td>\n",
       "      <td>News</td>\n",
       "      <td>December 21, 2017</td>\n",
       "      <td>0</td>\n",
       "    </tr>\n",
       "  </tbody>\n",
       "</table>\n",
       "</div>"
      ],
      "text/plain": [
       "                                               title  \\\n",
       "0   Donald Trump Sends Out Embarrassing New Year’...   \n",
       "1   Drunk Bragging Trump Staffer Started Russian ...   \n",
       "2   Sheriff David Clarke Becomes An Internet Joke...   \n",
       "3   Trump Is So Obsessed He Even Has Obama’s Name...   \n",
       "4   Pope Francis Just Called Out Donald Trump Dur...   \n",
       "5   Racist Alabama Cops Brutalize Black Boy While...   \n",
       "6   Fresh Off The Golf Course, Trump Lashes Out A...   \n",
       "7   Trump Said Some INSANELY Racist Stuff Inside ...   \n",
       "8   Former CIA Director Slams Trump Over UN Bully...   \n",
       "9   WATCH: Brand-New Pro-Trump Ad Features So Muc...   \n",
       "\n",
       "                                                text subject  \\\n",
       "0  Donald Trump just couldn t wish all Americans ...    News   \n",
       "1  House Intelligence Committee Chairman Devin Nu...    News   \n",
       "2  On Friday, it was revealed that former Milwauk...    News   \n",
       "3  On Christmas day, Donald Trump announced that ...    News   \n",
       "4  Pope Francis used his annual Christmas Day mes...    News   \n",
       "5  The number of cases of cops brutalizing and ki...    News   \n",
       "6  Donald Trump spent a good portion of his day a...    News   \n",
       "7  In the wake of yet another court decision that...    News   \n",
       "8  Many people have raised the alarm regarding th...    News   \n",
       "9  Just when you might have thought we d get a br...    News   \n",
       "\n",
       "                date  class  \n",
       "0  December 31, 2017      0  \n",
       "1  December 31, 2017      0  \n",
       "2  December 30, 2017      0  \n",
       "3  December 29, 2017      0  \n",
       "4  December 25, 2017      0  \n",
       "5  December 25, 2017      0  \n",
       "6  December 23, 2017      0  \n",
       "7  December 23, 2017      0  \n",
       "8  December 22, 2017      0  \n",
       "9  December 21, 2017      0  "
      ]
     },
     "execution_count": 14,
     "metadata": {},
     "output_type": "execute_result"
    }
   ],
   "source": [
    "df_merged.head(10)"
   ]
  },
  {
   "cell_type": "code",
   "execution_count": 15,
   "id": "d49da1c6",
   "metadata": {},
   "outputs": [],
   "source": [
    "df_merged = df_merged.sample(frac = 1) #shuffling the data"
   ]
  },
  {
   "cell_type": "code",
   "execution_count": 16,
   "id": "5232723d",
   "metadata": {},
   "outputs": [
    {
     "data": {
      "text/html": [
       "<div>\n",
       "<style scoped>\n",
       "    .dataframe tbody tr th:only-of-type {\n",
       "        vertical-align: middle;\n",
       "    }\n",
       "\n",
       "    .dataframe tbody tr th {\n",
       "        vertical-align: top;\n",
       "    }\n",
       "\n",
       "    .dataframe thead th {\n",
       "        text-align: right;\n",
       "    }\n",
       "</style>\n",
       "<table border=\"1\" class=\"dataframe\">\n",
       "  <thead>\n",
       "    <tr style=\"text-align: right;\">\n",
       "      <th></th>\n",
       "      <th>title</th>\n",
       "      <th>text</th>\n",
       "      <th>subject</th>\n",
       "      <th>date</th>\n",
       "      <th>class</th>\n",
       "    </tr>\n",
       "  </thead>\n",
       "  <tbody>\n",
       "    <tr>\n",
       "      <th>6206</th>\n",
       "      <td>Trump taps NFL owner Woody Johnson as ambassad...</td>\n",
       "      <td>WASHINGTON (Reuters) - President-elect Donald ...</td>\n",
       "      <td>politicsNews</td>\n",
       "      <td>January 19, 2017</td>\n",
       "      <td>1</td>\n",
       "    </tr>\n",
       "    <tr>\n",
       "      <th>19890</th>\n",
       "      <td>Catalonia asks Spain for dialogue as independe...</td>\n",
       "      <td>MADRID (Reuters) - Catalonian leaders on Frida...</td>\n",
       "      <td>worldnews</td>\n",
       "      <td>September 15, 2017</td>\n",
       "      <td>1</td>\n",
       "    </tr>\n",
       "    <tr>\n",
       "      <th>20482</th>\n",
       "      <td>OBAMA’S LAWLESS AMERICA: CA Police Tell Violen...</td>\n",
       "      <td>Barack Obama s legacy will be a divided, lawle...</td>\n",
       "      <td>left-news</td>\n",
       "      <td>Jun 3, 2016</td>\n",
       "      <td>0</td>\n",
       "    </tr>\n",
       "    <tr>\n",
       "      <th>9093</th>\n",
       "      <td>McCain says he 'misspoke' in blaming Obama for...</td>\n",
       "      <td>WASHINGTON (Reuters) - U.S. Senator John McCai...</td>\n",
       "      <td>politicsNews</td>\n",
       "      <td>June 16, 2016</td>\n",
       "      <td>1</td>\n",
       "    </tr>\n",
       "    <tr>\n",
       "      <th>21556</th>\n",
       "      <td>[Video] KANSAS DEM MAYOR BRAGS ABOUT REDUCTION...</td>\n",
       "      <td>What would a speech from a modern Democrat be ...</td>\n",
       "      <td>left-news</td>\n",
       "      <td>Jul 16, 2015</td>\n",
       "      <td>0</td>\n",
       "    </tr>\n",
       "    <tr>\n",
       "      <th>6386</th>\n",
       "      <td>Hillary Clinton Is Apparently Eyeing Elizabet...</td>\n",
       "      <td>While Donald Trump is considering Arizona s fo...</td>\n",
       "      <td>News</td>\n",
       "      <td>May 13, 2016</td>\n",
       "      <td>0</td>\n",
       "    </tr>\n",
       "    <tr>\n",
       "      <th>3104</th>\n",
       "      <td>U.S. attorney general unveils 12-city partners...</td>\n",
       "      <td>WASHINGTON (Reuters) - The U.S. Justice Depart...</td>\n",
       "      <td>politicsNews</td>\n",
       "      <td>June 20, 2017</td>\n",
       "      <td>1</td>\n",
       "    </tr>\n",
       "    <tr>\n",
       "      <th>19590</th>\n",
       "      <td>Russia becomes Iraq Kurds' top funder, quiet a...</td>\n",
       "      <td>LONDON (Reuters) - Russia, the only major powe...</td>\n",
       "      <td>worldnews</td>\n",
       "      <td>September 20, 2017</td>\n",
       "      <td>1</td>\n",
       "    </tr>\n",
       "    <tr>\n",
       "      <th>15508</th>\n",
       "      <td>Papua New Guinea court rejects bid to restore ...</td>\n",
       "      <td>SYDNEY (Reuters) - Papua New Guinea s Supreme ...</td>\n",
       "      <td>worldnews</td>\n",
       "      <td>November 7, 2017</td>\n",
       "      <td>1</td>\n",
       "    </tr>\n",
       "    <tr>\n",
       "      <th>12097</th>\n",
       "      <td>PLAYING POLITICS? HERE’S WHY A JUDGE Will Unse...</td>\n",
       "      <td></td>\n",
       "      <td>politics</td>\n",
       "      <td>Dec 20, 2016</td>\n",
       "      <td>0</td>\n",
       "    </tr>\n",
       "    <tr>\n",
       "      <th>6515</th>\n",
       "      <td>WATCH: Fox News Host Flies Off The Handle At ...</td>\n",
       "      <td>Donald Trump is now the presumptive Republican...</td>\n",
       "      <td>News</td>\n",
       "      <td>May 6, 2016</td>\n",
       "      <td>0</td>\n",
       "    </tr>\n",
       "    <tr>\n",
       "      <th>3978</th>\n",
       "      <td>U.S. Congress to give Puerto Rico short-term M...</td>\n",
       "      <td>(Reuters) - Ailing Puerto Rico would receive $...</td>\n",
       "      <td>politicsNews</td>\n",
       "      <td>May 1, 2017</td>\n",
       "      <td>1</td>\n",
       "    </tr>\n",
       "    <tr>\n",
       "      <th>4272</th>\n",
       "      <td>Jerry Springer Reacts To Trump’s Debate Perfo...</td>\n",
       "      <td>If you watched the second presidential debate ...</td>\n",
       "      <td>News</td>\n",
       "      <td>October 10, 2016</td>\n",
       "      <td>0</td>\n",
       "    </tr>\n",
       "    <tr>\n",
       "      <th>10964</th>\n",
       "      <td>Obama says faith a cure for fears stirred by w...</td>\n",
       "      <td>WASHINGTON (Reuters) - President Barack Obama,...</td>\n",
       "      <td>politicsNews</td>\n",
       "      <td>February 4, 2016</td>\n",
       "      <td>1</td>\n",
       "    </tr>\n",
       "    <tr>\n",
       "      <th>22683</th>\n",
       "      <td>Boston Brakes? How to Hack a New Car With Your...</td>\n",
       "      <td>21st Century Wire says For those who still ref...</td>\n",
       "      <td>US_News</td>\n",
       "      <td>January 22, 2016</td>\n",
       "      <td>0</td>\n",
       "    </tr>\n",
       "  </tbody>\n",
       "</table>\n",
       "</div>"
      ],
      "text/plain": [
       "                                                   title  \\\n",
       "6206   Trump taps NFL owner Woody Johnson as ambassad...   \n",
       "19890  Catalonia asks Spain for dialogue as independe...   \n",
       "20482  OBAMA’S LAWLESS AMERICA: CA Police Tell Violen...   \n",
       "9093   McCain says he 'misspoke' in blaming Obama for...   \n",
       "21556  [Video] KANSAS DEM MAYOR BRAGS ABOUT REDUCTION...   \n",
       "6386    Hillary Clinton Is Apparently Eyeing Elizabet...   \n",
       "3104   U.S. attorney general unveils 12-city partners...   \n",
       "19590  Russia becomes Iraq Kurds' top funder, quiet a...   \n",
       "15508  Papua New Guinea court rejects bid to restore ...   \n",
       "12097  PLAYING POLITICS? HERE’S WHY A JUDGE Will Unse...   \n",
       "6515    WATCH: Fox News Host Flies Off The Handle At ...   \n",
       "3978   U.S. Congress to give Puerto Rico short-term M...   \n",
       "4272    Jerry Springer Reacts To Trump’s Debate Perfo...   \n",
       "10964  Obama says faith a cure for fears stirred by w...   \n",
       "22683  Boston Brakes? How to Hack a New Car With Your...   \n",
       "\n",
       "                                                    text       subject  \\\n",
       "6206   WASHINGTON (Reuters) - President-elect Donald ...  politicsNews   \n",
       "19890  MADRID (Reuters) - Catalonian leaders on Frida...     worldnews   \n",
       "20482  Barack Obama s legacy will be a divided, lawle...     left-news   \n",
       "9093   WASHINGTON (Reuters) - U.S. Senator John McCai...  politicsNews   \n",
       "21556  What would a speech from a modern Democrat be ...     left-news   \n",
       "6386   While Donald Trump is considering Arizona s fo...          News   \n",
       "3104   WASHINGTON (Reuters) - The U.S. Justice Depart...  politicsNews   \n",
       "19590  LONDON (Reuters) - Russia, the only major powe...     worldnews   \n",
       "15508  SYDNEY (Reuters) - Papua New Guinea s Supreme ...     worldnews   \n",
       "12097                                                         politics   \n",
       "6515   Donald Trump is now the presumptive Republican...          News   \n",
       "3978   (Reuters) - Ailing Puerto Rico would receive $...  politicsNews   \n",
       "4272   If you watched the second presidential debate ...          News   \n",
       "10964  WASHINGTON (Reuters) - President Barack Obama,...  politicsNews   \n",
       "22683  21st Century Wire says For those who still ref...       US_News   \n",
       "\n",
       "                      date  class  \n",
       "6206     January 19, 2017       1  \n",
       "19890  September 15, 2017       1  \n",
       "20482          Jun 3, 2016      0  \n",
       "9093        June 16, 2016       1  \n",
       "21556         Jul 16, 2015      0  \n",
       "6386          May 13, 2016      0  \n",
       "3104        June 20, 2017       1  \n",
       "19590  September 20, 2017       1  \n",
       "15508    November 7, 2017       1  \n",
       "12097         Dec 20, 2016      0  \n",
       "6515           May 6, 2016      0  \n",
       "3978          May 1, 2017       1  \n",
       "4272      October 10, 2016      0  \n",
       "10964    February 4, 2016       1  \n",
       "22683     January 22, 2016      0  "
      ]
     },
     "execution_count": 16,
     "metadata": {},
     "output_type": "execute_result"
    }
   ],
   "source": [
    "df_merged.head(15)"
   ]
  },
  {
   "cell_type": "code",
   "execution_count": 17,
   "id": "eb04acb0",
   "metadata": {},
   "outputs": [],
   "source": [
    "df_merged.reset_index(inplace = True) #resettting the index of the dataset\n",
    "df_merged.drop([\"index\"], axis = 1, inplace = True)#dropping the old index of the dataset"
   ]
  },
  {
   "cell_type": "code",
   "execution_count": 18,
   "id": "f96704c2",
   "metadata": {},
   "outputs": [
    {
     "data": {
      "text/html": [
       "<div>\n",
       "<style scoped>\n",
       "    .dataframe tbody tr th:only-of-type {\n",
       "        vertical-align: middle;\n",
       "    }\n",
       "\n",
       "    .dataframe tbody tr th {\n",
       "        vertical-align: top;\n",
       "    }\n",
       "\n",
       "    .dataframe thead th {\n",
       "        text-align: right;\n",
       "    }\n",
       "</style>\n",
       "<table border=\"1\" class=\"dataframe\">\n",
       "  <thead>\n",
       "    <tr style=\"text-align: right;\">\n",
       "      <th></th>\n",
       "      <th>title</th>\n",
       "      <th>text</th>\n",
       "      <th>subject</th>\n",
       "      <th>date</th>\n",
       "      <th>class</th>\n",
       "    </tr>\n",
       "  </thead>\n",
       "  <tbody>\n",
       "    <tr>\n",
       "      <th>0</th>\n",
       "      <td>Trump taps NFL owner Woody Johnson as ambassad...</td>\n",
       "      <td>WASHINGTON (Reuters) - President-elect Donald ...</td>\n",
       "      <td>politicsNews</td>\n",
       "      <td>January 19, 2017</td>\n",
       "      <td>1</td>\n",
       "    </tr>\n",
       "    <tr>\n",
       "      <th>1</th>\n",
       "      <td>Catalonia asks Spain for dialogue as independe...</td>\n",
       "      <td>MADRID (Reuters) - Catalonian leaders on Frida...</td>\n",
       "      <td>worldnews</td>\n",
       "      <td>September 15, 2017</td>\n",
       "      <td>1</td>\n",
       "    </tr>\n",
       "    <tr>\n",
       "      <th>2</th>\n",
       "      <td>OBAMA’S LAWLESS AMERICA: CA Police Tell Violen...</td>\n",
       "      <td>Barack Obama s legacy will be a divided, lawle...</td>\n",
       "      <td>left-news</td>\n",
       "      <td>Jun 3, 2016</td>\n",
       "      <td>0</td>\n",
       "    </tr>\n",
       "    <tr>\n",
       "      <th>3</th>\n",
       "      <td>McCain says he 'misspoke' in blaming Obama for...</td>\n",
       "      <td>WASHINGTON (Reuters) - U.S. Senator John McCai...</td>\n",
       "      <td>politicsNews</td>\n",
       "      <td>June 16, 2016</td>\n",
       "      <td>1</td>\n",
       "    </tr>\n",
       "    <tr>\n",
       "      <th>4</th>\n",
       "      <td>[Video] KANSAS DEM MAYOR BRAGS ABOUT REDUCTION...</td>\n",
       "      <td>What would a speech from a modern Democrat be ...</td>\n",
       "      <td>left-news</td>\n",
       "      <td>Jul 16, 2015</td>\n",
       "      <td>0</td>\n",
       "    </tr>\n",
       "    <tr>\n",
       "      <th>5</th>\n",
       "      <td>Hillary Clinton Is Apparently Eyeing Elizabet...</td>\n",
       "      <td>While Donald Trump is considering Arizona s fo...</td>\n",
       "      <td>News</td>\n",
       "      <td>May 13, 2016</td>\n",
       "      <td>0</td>\n",
       "    </tr>\n",
       "    <tr>\n",
       "      <th>6</th>\n",
       "      <td>U.S. attorney general unveils 12-city partners...</td>\n",
       "      <td>WASHINGTON (Reuters) - The U.S. Justice Depart...</td>\n",
       "      <td>politicsNews</td>\n",
       "      <td>June 20, 2017</td>\n",
       "      <td>1</td>\n",
       "    </tr>\n",
       "    <tr>\n",
       "      <th>7</th>\n",
       "      <td>Russia becomes Iraq Kurds' top funder, quiet a...</td>\n",
       "      <td>LONDON (Reuters) - Russia, the only major powe...</td>\n",
       "      <td>worldnews</td>\n",
       "      <td>September 20, 2017</td>\n",
       "      <td>1</td>\n",
       "    </tr>\n",
       "    <tr>\n",
       "      <th>8</th>\n",
       "      <td>Papua New Guinea court rejects bid to restore ...</td>\n",
       "      <td>SYDNEY (Reuters) - Papua New Guinea s Supreme ...</td>\n",
       "      <td>worldnews</td>\n",
       "      <td>November 7, 2017</td>\n",
       "      <td>1</td>\n",
       "    </tr>\n",
       "    <tr>\n",
       "      <th>9</th>\n",
       "      <td>PLAYING POLITICS? HERE’S WHY A JUDGE Will Unse...</td>\n",
       "      <td></td>\n",
       "      <td>politics</td>\n",
       "      <td>Dec 20, 2016</td>\n",
       "      <td>0</td>\n",
       "    </tr>\n",
       "    <tr>\n",
       "      <th>10</th>\n",
       "      <td>WATCH: Fox News Host Flies Off The Handle At ...</td>\n",
       "      <td>Donald Trump is now the presumptive Republican...</td>\n",
       "      <td>News</td>\n",
       "      <td>May 6, 2016</td>\n",
       "      <td>0</td>\n",
       "    </tr>\n",
       "    <tr>\n",
       "      <th>11</th>\n",
       "      <td>U.S. Congress to give Puerto Rico short-term M...</td>\n",
       "      <td>(Reuters) - Ailing Puerto Rico would receive $...</td>\n",
       "      <td>politicsNews</td>\n",
       "      <td>May 1, 2017</td>\n",
       "      <td>1</td>\n",
       "    </tr>\n",
       "    <tr>\n",
       "      <th>12</th>\n",
       "      <td>Jerry Springer Reacts To Trump’s Debate Perfo...</td>\n",
       "      <td>If you watched the second presidential debate ...</td>\n",
       "      <td>News</td>\n",
       "      <td>October 10, 2016</td>\n",
       "      <td>0</td>\n",
       "    </tr>\n",
       "    <tr>\n",
       "      <th>13</th>\n",
       "      <td>Obama says faith a cure for fears stirred by w...</td>\n",
       "      <td>WASHINGTON (Reuters) - President Barack Obama,...</td>\n",
       "      <td>politicsNews</td>\n",
       "      <td>February 4, 2016</td>\n",
       "      <td>1</td>\n",
       "    </tr>\n",
       "    <tr>\n",
       "      <th>14</th>\n",
       "      <td>Boston Brakes? How to Hack a New Car With Your...</td>\n",
       "      <td>21st Century Wire says For those who still ref...</td>\n",
       "      <td>US_News</td>\n",
       "      <td>January 22, 2016</td>\n",
       "      <td>0</td>\n",
       "    </tr>\n",
       "  </tbody>\n",
       "</table>\n",
       "</div>"
      ],
      "text/plain": [
       "                                                title  \\\n",
       "0   Trump taps NFL owner Woody Johnson as ambassad...   \n",
       "1   Catalonia asks Spain for dialogue as independe...   \n",
       "2   OBAMA’S LAWLESS AMERICA: CA Police Tell Violen...   \n",
       "3   McCain says he 'misspoke' in blaming Obama for...   \n",
       "4   [Video] KANSAS DEM MAYOR BRAGS ABOUT REDUCTION...   \n",
       "5    Hillary Clinton Is Apparently Eyeing Elizabet...   \n",
       "6   U.S. attorney general unveils 12-city partners...   \n",
       "7   Russia becomes Iraq Kurds' top funder, quiet a...   \n",
       "8   Papua New Guinea court rejects bid to restore ...   \n",
       "9   PLAYING POLITICS? HERE’S WHY A JUDGE Will Unse...   \n",
       "10   WATCH: Fox News Host Flies Off The Handle At ...   \n",
       "11  U.S. Congress to give Puerto Rico short-term M...   \n",
       "12   Jerry Springer Reacts To Trump’s Debate Perfo...   \n",
       "13  Obama says faith a cure for fears stirred by w...   \n",
       "14  Boston Brakes? How to Hack a New Car With Your...   \n",
       "\n",
       "                                                 text       subject  \\\n",
       "0   WASHINGTON (Reuters) - President-elect Donald ...  politicsNews   \n",
       "1   MADRID (Reuters) - Catalonian leaders on Frida...     worldnews   \n",
       "2   Barack Obama s legacy will be a divided, lawle...     left-news   \n",
       "3   WASHINGTON (Reuters) - U.S. Senator John McCai...  politicsNews   \n",
       "4   What would a speech from a modern Democrat be ...     left-news   \n",
       "5   While Donald Trump is considering Arizona s fo...          News   \n",
       "6   WASHINGTON (Reuters) - The U.S. Justice Depart...  politicsNews   \n",
       "7   LONDON (Reuters) - Russia, the only major powe...     worldnews   \n",
       "8   SYDNEY (Reuters) - Papua New Guinea s Supreme ...     worldnews   \n",
       "9                                                          politics   \n",
       "10  Donald Trump is now the presumptive Republican...          News   \n",
       "11  (Reuters) - Ailing Puerto Rico would receive $...  politicsNews   \n",
       "12  If you watched the second presidential debate ...          News   \n",
       "13  WASHINGTON (Reuters) - President Barack Obama,...  politicsNews   \n",
       "14  21st Century Wire says For those who still ref...       US_News   \n",
       "\n",
       "                   date  class  \n",
       "0     January 19, 2017       1  \n",
       "1   September 15, 2017       1  \n",
       "2           Jun 3, 2016      0  \n",
       "3        June 16, 2016       1  \n",
       "4          Jul 16, 2015      0  \n",
       "5          May 13, 2016      0  \n",
       "6        June 20, 2017       1  \n",
       "7   September 20, 2017       1  \n",
       "8     November 7, 2017       1  \n",
       "9          Dec 20, 2016      0  \n",
       "10          May 6, 2016      0  \n",
       "11         May 1, 2017       1  \n",
       "12     October 10, 2016      0  \n",
       "13    February 4, 2016       1  \n",
       "14     January 22, 2016      0  "
      ]
     },
     "execution_count": 18,
     "metadata": {},
     "output_type": "execute_result"
    }
   ],
   "source": [
    "df_merged.head(15)"
   ]
  },
  {
   "cell_type": "code",
   "execution_count": 19,
   "id": "daa38052",
   "metadata": {},
   "outputs": [
    {
     "data": {
      "text/plain": [
       "(44898, 5)"
      ]
     },
     "execution_count": 19,
     "metadata": {},
     "output_type": "execute_result"
    }
   ],
   "source": [
    "df_merged.shape"
   ]
  },
  {
   "cell_type": "code",
   "execution_count": 20,
   "id": "0f5cafc8",
   "metadata": {},
   "outputs": [],
   "source": [
    "manual_test_df = df_merged.tail(20) #storing the last 20 rows in a new variable"
   ]
  },
  {
   "cell_type": "code",
   "execution_count": 21,
   "id": "d931f4e8",
   "metadata": {},
   "outputs": [],
   "source": [
    "manual_test_df.to_csv('manual_test_dataset.csv') #storing the dataset as a csv"
   ]
  },
  {
   "cell_type": "code",
   "execution_count": 22,
   "id": "77b76d4b",
   "metadata": {},
   "outputs": [],
   "source": [
    "df_merged.drop(df_merged.tail(20).index,inplace = True) #dropping the last 20 rows from our orignal dataset"
   ]
  },
  {
   "cell_type": "code",
   "execution_count": 23,
   "id": "6f2219db",
   "metadata": {},
   "outputs": [
    {
     "data": {
      "text/plain": [
       "(44878, 5)"
      ]
     },
     "execution_count": 23,
     "metadata": {},
     "output_type": "execute_result"
    }
   ],
   "source": [
    "df_merged.shape #checking the new shape of our dataset"
   ]
  },
  {
   "cell_type": "code",
   "execution_count": 24,
   "id": "b56f3f1f",
   "metadata": {},
   "outputs": [
    {
     "data": {
      "text/plain": [
       "0    23470\n",
       "1    21408\n",
       "Name: class, dtype: int64"
      ]
     },
     "execution_count": 24,
     "metadata": {},
     "output_type": "execute_result"
    }
   ],
   "source": [
    "df_merged['class'].value_counts()"
   ]
  },
  {
   "cell_type": "code",
   "execution_count": 25,
   "id": "72d66dde",
   "metadata": {},
   "outputs": [],
   "source": [
    "df_copy = df_merged.copy(deep = True) #COPY OF DATASET WITHOUT TOKINIZATION OR STEMMING"
   ]
  },
  {
   "cell_type": "markdown",
   "id": "f30833c8",
   "metadata": {},
   "source": [
    "##### Data Preprocessing"
   ]
  },
  {
   "cell_type": "code",
   "execution_count": 26,
   "id": "ed25b6e2",
   "metadata": {},
   "outputs": [],
   "source": [
    "def wordopt(text):\n",
    "    text = text.lower() #change text to lower  case\n",
    "    text = re.sub('\\[.*?\\]', '', text) #remove all regex in the square box\n",
    "    text = re.sub('https?://\\S+|www\\.\\S+', '', text)#removes web addresses starting with https or www\n",
    "    text = re.sub('\\n', '', text) #removes all tab or new lines\n",
    "    text = re.sub('[^a-zA-Z]',' ',text)#remove all strings that contains non letters\n",
    "    return text"
   ]
  },
  {
   "cell_type": "code",
   "execution_count": 27,
   "id": "f3f22430",
   "metadata": {},
   "outputs": [],
   "source": [
    "df_merged[\"text\"] = df_merged[\"text\"].apply(wordopt)"
   ]
  },
  {
   "cell_type": "code",
   "execution_count": 28,
   "id": "97ae8324",
   "metadata": {
    "scrolled": true
   },
   "outputs": [
    {
     "name": "stdout",
     "output_type": "stream",
     "text": [
      "0        washington  reuters    president elect donald ...\n",
      "1        madrid  reuters    catalonian leaders on frida...\n",
      "2        barack obama s legacy will be a divided  lawle...\n",
      "3        washington  reuters    u s  senator john mccai...\n",
      "4        what would a speech from a modern democrat be ...\n",
      "                               ...                        \n",
      "44873    washington  reuters    ohio governor john kasi...\n",
      "44874    amman  reuters    the syrian army and iranian ...\n",
      "44875    patrick henningsen   st century wiredespite re...\n",
      "44876    sittwe  myanmar  reuters    around         dis...\n",
      "44877    yangon  reuters    the united states temporari...\n",
      "Name: text, Length: 44878, dtype: object\n"
     ]
    }
   ],
   "source": [
    "print(df_merged['text'])"
   ]
  },
  {
   "cell_type": "markdown",
   "id": "b31dae73",
   "metadata": {},
   "source": [
    "##### Tokenization: splitting sentence into words"
   ]
  },
  {
   "cell_type": "code",
   "execution_count": 29,
   "id": "044e8d20",
   "metadata": {},
   "outputs": [],
   "source": [
    "#from nltk.tokenize import word_tokenize"
   ]
  },
  {
   "cell_type": "code",
   "execution_count": 30,
   "id": "c815dd3b",
   "metadata": {},
   "outputs": [],
   "source": [
    "#df_merged['text'] = df_merged['text'].apply(word_tokenize)"
   ]
  },
  {
   "cell_type": "code",
   "execution_count": 31,
   "id": "e8420984",
   "metadata": {},
   "outputs": [],
   "source": [
    "#print(df_merged['text'])"
   ]
  },
  {
   "cell_type": "markdown",
   "id": "9070c0a9",
   "metadata": {},
   "source": [
    "##### Stop Word Removal"
   ]
  },
  {
   "cell_type": "code",
   "execution_count": 32,
   "id": "26919669",
   "metadata": {},
   "outputs": [],
   "source": [
    "#df_merged['text'] = df_merged['text'].apply(lambda x:[item for item in x if item not in STOPWORDS])"
   ]
  },
  {
   "cell_type": "code",
   "execution_count": 33,
   "id": "c4c21a53",
   "metadata": {
    "scrolled": true
   },
   "outputs": [],
   "source": [
    "#print(df_merged['text'])"
   ]
  },
  {
   "cell_type": "markdown",
   "id": "12637436",
   "metadata": {},
   "source": [
    "##### Stemming"
   ]
  },
  {
   "cell_type": "code",
   "execution_count": 34,
   "id": "43dbc4f7",
   "metadata": {},
   "outputs": [],
   "source": [
    "#ps = PorterStemmer()"
   ]
  },
  {
   "cell_type": "raw",
   "id": "daf449e8",
   "metadata": {},
   "source": [
    "#def stemming(tokinized_text):\n",
    "    text = [ps.stem(word) for word in tokinized_text]\n",
    "    return text"
   ]
  },
  {
   "cell_type": "code",
   "execution_count": 35,
   "id": "3dfceaf1",
   "metadata": {},
   "outputs": [],
   "source": [
    "#df_merged['text'] = df_merged['text'].apply(lambda x: stemming(x))"
   ]
  },
  {
   "cell_type": "code",
   "execution_count": 36,
   "id": "3c457994",
   "metadata": {},
   "outputs": [],
   "source": [
    "#print(df_merged['text'])"
   ]
  },
  {
   "cell_type": "code",
   "execution_count": 37,
   "id": "e90d1fe9",
   "metadata": {},
   "outputs": [],
   "source": [
    "#df_merged['text'] = df_merged['text'].astype(str)"
   ]
  },
  {
   "cell_type": "code",
   "execution_count": 38,
   "id": "b00a76ec",
   "metadata": {},
   "outputs": [],
   "source": [
    "#print(df_merged['text'])"
   ]
  },
  {
   "cell_type": "markdown",
   "id": "2ac159ce",
   "metadata": {},
   "source": [
    "#### DATA EXPLORATION/VISUALIZATION"
   ]
  },
  {
   "cell_type": "code",
   "execution_count": 39,
   "id": "9e8a943f",
   "metadata": {},
   "outputs": [],
   "source": [
    "#df_merged['class'].value_counts()"
   ]
  },
  {
   "cell_type": "code",
   "execution_count": 40,
   "id": "6f81a640",
   "metadata": {},
   "outputs": [],
   "source": [
    "#sns.barplot( x = ['Fake_news','True_news'] , y = df_merged['class'].value_counts())"
   ]
  },
  {
   "cell_type": "raw",
   "id": "d9ed5f3a",
   "metadata": {},
   "source": [
    "from wordcloud import WordCloud,STOPWORDS"
   ]
  },
  {
   "cell_type": "raw",
   "id": "81c1570a",
   "metadata": {},
   "source": [
    "stopwords = STOPWORDS"
   ]
  },
  {
   "cell_type": "raw",
   "id": "aaad4aec",
   "metadata": {},
   "source": [
    "wc =WordCloud(background_color = 'white',stopwords = stopwords,height = 800,width = 1600)\n",
    "wc.generate(''.join(df_merged['text'].tolist()))\n",
    "plt.figure(figsize = (20,10),facecolor = 'k')\n",
    "plt.imshow(wc)"
   ]
  },
  {
   "cell_type": "raw",
   "id": "936c559e",
   "metadata": {},
   "source": [
    "df_merged1 = df_merged.loc[df_merged['class']== 1]\n",
    "df_merged0 = df_merged.loc[df_merged['class']== 0]"
   ]
  },
  {
   "cell_type": "raw",
   "id": "74157f3a",
   "metadata": {},
   "source": [
    "#show wordcloud of only true news\n",
    "wc =WordCloud(background_color = 'white',stopwords = stopwords,height = 800,width = 1600)\n",
    "wc.generate(''.join(df_merged1['text'].tolist()))\n",
    "plt.figure(figsize = (20,10),facecolor = 'k')\n",
    "plt.imshow(wc)"
   ]
  },
  {
   "cell_type": "raw",
   "id": "5ee09fe8",
   "metadata": {},
   "source": [
    "#show wordcloud of false news\n",
    "wc =WordCloud(background_color = 'white',stopwords = stopwords,height = 800,width = 1600)\n",
    "wc.generate(''.join(df_merged0['text'].tolist()))\n",
    "plt.figure(figsize = (20,10),facecolor = 'k')\n",
    "plt.imshow(wc)"
   ]
  },
  {
   "cell_type": "raw",
   "id": "ea16a599",
   "metadata": {},
   "source": [
    "#wordcloud of the title of the true_news\n",
    "wc =WordCloud(background_color = 'white',stopwords = stopwords,height = 800,width = 1600)\n",
    "wc.generate(''.join(df_merged1['title'].tolist()))\n",
    "plt.figure(figsize = (20,10),facecolor = 'k')\n",
    "plt.imshow(wc)"
   ]
  },
  {
   "cell_type": "raw",
   "id": "f55cd40e",
   "metadata": {},
   "source": [
    "#wordcloud of the title of the fake_news\n",
    "wc =WordCloud(background_color = 'white',stopwords = stopwords,height = 800,width = 1600)\n",
    "wc.generate(''.join(df_merged0['title'].tolist()))\n",
    "plt.figure(figsize = (20,10),facecolor = 'k')\n",
    "plt.imshow(wc)"
   ]
  },
  {
   "cell_type": "markdown",
   "id": "60cea9d4",
   "metadata": {},
   "source": [
    "## MODEL BUILDING/SELECTION"
   ]
  },
  {
   "cell_type": "code",
   "execution_count": 41,
   "id": "d31078b0",
   "metadata": {},
   "outputs": [],
   "source": [
    "#df_merged['text'] = df_merged['text'].astype(str)"
   ]
  },
  {
   "cell_type": "code",
   "execution_count": 42,
   "id": "4d3e64be",
   "metadata": {},
   "outputs": [],
   "source": [
    "x = df_merged[\"text\"]\n",
    "y = df_merged[\"class\"]"
   ]
  },
  {
   "cell_type": "code",
   "execution_count": 43,
   "id": "e747dbf2",
   "metadata": {},
   "outputs": [],
   "source": [
    "x_train, x_test, y_train, y_test = train_test_split(x, y, test_size=0.20)"
   ]
  },
  {
   "cell_type": "markdown",
   "id": "4cf32f7f",
   "metadata": {},
   "source": [
    "###### Convert text to vector"
   ]
  },
  {
   "cell_type": "code",
   "execution_count": 44,
   "id": "74a4b0a2",
   "metadata": {},
   "outputs": [],
   "source": [
    "from sklearn.feature_extraction.text import TfidfVectorizer"
   ]
  },
  {
   "cell_type": "code",
   "execution_count": 45,
   "id": "b0c71b1c",
   "metadata": {},
   "outputs": [],
   "source": [
    "vectorization = TfidfVectorizer()\n",
    "xv_train = vectorization.fit_transform(x_train)\n",
    "xv_test = vectorization.transform(x_test) "
   ]
  },
  {
   "cell_type": "markdown",
   "id": "520d632e",
   "metadata": {},
   "source": [
    "### Logistic Regression\n"
   ]
  },
  {
   "cell_type": "code",
   "execution_count": 46,
   "id": "a23fb312",
   "metadata": {},
   "outputs": [],
   "source": [
    "#from sklearn.linear_model import LogisticRegression "
   ]
  },
  {
   "cell_type": "code",
   "execution_count": 47,
   "id": "76ede505",
   "metadata": {},
   "outputs": [],
   "source": [
    "#regressor = LogisticRegression()\n",
    "#regressor.fit(xv_train,y_train)"
   ]
  },
  {
   "cell_type": "code",
   "execution_count": 48,
   "id": "50d31f77",
   "metadata": {},
   "outputs": [],
   "source": [
    "#prediction=regressor.predict(xv_test)"
   ]
  },
  {
   "cell_type": "code",
   "execution_count": 49,
   "id": "2f0b10e1",
   "metadata": {},
   "outputs": [],
   "source": [
    "#regressor.score(xv_test, y_test)"
   ]
  },
  {
   "cell_type": "code",
   "execution_count": 50,
   "id": "59408169",
   "metadata": {},
   "outputs": [],
   "source": [
    "#from sklearn import metrics\n",
    "#score = metrics.accuracy_score(y_test, prediction)\n",
    "#print(\"Accuracy: \", score)"
   ]
  },
  {
   "cell_type": "code",
   "execution_count": 51,
   "id": "85558233",
   "metadata": {},
   "outputs": [],
   "source": [
    "#print(classification_report(y_test, prediction))"
   ]
  },
  {
   "cell_type": "markdown",
   "id": "168adfb9",
   "metadata": {},
   "source": [
    "### Decision Tree Classification\n"
   ]
  },
  {
   "cell_type": "code",
   "execution_count": 52,
   "id": "97d23979",
   "metadata": {},
   "outputs": [],
   "source": [
    "from sklearn.tree import DecisionTreeClassifier"
   ]
  },
  {
   "cell_type": "code",
   "execution_count": 53,
   "id": "5acc55e6",
   "metadata": {},
   "outputs": [
    {
     "data": {
      "text/plain": [
       "DecisionTreeClassifier()"
      ]
     },
     "execution_count": 53,
     "metadata": {},
     "output_type": "execute_result"
    }
   ],
   "source": [
    "classifier = DecisionTreeClassifier()\n",
    "classifier.fit(xv_train, y_train)"
   ]
  },
  {
   "cell_type": "code",
   "execution_count": 54,
   "id": "bf0cfe9b",
   "metadata": {},
   "outputs": [],
   "source": [
    "pred_dt = classifier.predict(xv_test)"
   ]
  },
  {
   "cell_type": "code",
   "execution_count": 55,
   "id": "494126c3",
   "metadata": {},
   "outputs": [
    {
     "data": {
      "text/plain": [
       "0.9952094474153298"
      ]
     },
     "execution_count": 55,
     "metadata": {},
     "output_type": "execute_result"
    }
   ],
   "source": [
    "classifier.score(xv_test, y_test)"
   ]
  },
  {
   "cell_type": "code",
   "execution_count": 56,
   "id": "510153e4",
   "metadata": {},
   "outputs": [
    {
     "name": "stdout",
     "output_type": "stream",
     "text": [
      "              precision    recall  f1-score   support\n",
      "\n",
      "           0       1.00      1.00      1.00      4747\n",
      "           1       1.00      0.99      0.99      4229\n",
      "\n",
      "    accuracy                           1.00      8976\n",
      "   macro avg       1.00      1.00      1.00      8976\n",
      "weighted avg       1.00      1.00      1.00      8976\n",
      "\n"
     ]
    }
   ],
   "source": [
    "print(classification_report(y_test, pred_dt))"
   ]
  },
  {
   "cell_type": "markdown",
   "id": "6ce80a28",
   "metadata": {},
   "source": [
    "### Gradient Boosting Classifier"
   ]
  },
  {
   "cell_type": "code",
   "execution_count": 57,
   "id": "da089d41",
   "metadata": {},
   "outputs": [],
   "source": [
    "#from sklearn.ensemble import GradientBoostingClassifier"
   ]
  },
  {
   "cell_type": "code",
   "execution_count": 58,
   "id": "08565259",
   "metadata": {},
   "outputs": [],
   "source": [
    "#GBC = GradientBoostingClassifier(random_state=0)\n",
    "#GBC.fit(xv_train, y_train)"
   ]
  },
  {
   "cell_type": "code",
   "execution_count": 59,
   "id": "16effddc",
   "metadata": {},
   "outputs": [],
   "source": [
    "#pred_gbc = GBC.predict(xv_test)"
   ]
  },
  {
   "cell_type": "code",
   "execution_count": 60,
   "id": "5fd67392",
   "metadata": {},
   "outputs": [],
   "source": [
    "#GBC.score(xv_test, y_test)"
   ]
  },
  {
   "cell_type": "code",
   "execution_count": 61,
   "id": "781f3d67",
   "metadata": {},
   "outputs": [],
   "source": [
    "#print(classification_report(y_test, pred_gbc))"
   ]
  },
  {
   "cell_type": "markdown",
   "id": "d3967f7a",
   "metadata": {},
   "source": [
    "### Random Forest Classifier"
   ]
  },
  {
   "cell_type": "code",
   "execution_count": 62,
   "id": "603062cc",
   "metadata": {},
   "outputs": [],
   "source": [
    "#from sklearn.ensemble import RandomForestClassifier"
   ]
  },
  {
   "cell_type": "raw",
   "id": "82cdd218",
   "metadata": {},
   "source": [
    "RFC = RandomForestClassifier(random_state=42)\n",
    "RFC.fit(xv_train, y_train)"
   ]
  },
  {
   "cell_type": "raw",
   "id": "6274f99f",
   "metadata": {},
   "source": [
    "pred_rfc = RFC.predict(xv_test)"
   ]
  },
  {
   "cell_type": "raw",
   "id": "d6092761",
   "metadata": {},
   "source": [
    "RFC.score(xv_test, y_test)"
   ]
  },
  {
   "cell_type": "raw",
   "id": "d988e4a1",
   "metadata": {},
   "source": [
    "print(classification_report(y_test, pred_rfc))"
   ]
  },
  {
   "cell_type": "raw",
   "id": "e2144909",
   "metadata": {},
   "source": [
    "x = ['Logistic Regression','Decision Tree Classification','Gradient Boosting Classifier','Gradient Boosting Classifier']\n",
    "y = [regressor.score(xv_test, y_test),classifier.score(xv_test, y_test),GBC.score(xv_test, y_test),RFC.score(xv_test, y_test)]\n",
    "sns.barplot(x = x,y = y,data = df_merged)\n",
    "plt.show()"
   ]
  },
  {
   "cell_type": "raw",
   "id": "2c5e689e",
   "metadata": {},
   "source": [
    "import sklearn"
   ]
  },
  {
   "cell_type": "raw",
   "id": "a03e4fd7",
   "metadata": {},
   "source": [
    "sklearn.__version__"
   ]
  },
  {
   "cell_type": "raw",
   "id": "cd9c85d3",
   "metadata": {},
   "source": [
    "#create pickle file using serialization\n",
    "import pickle\n",
    "pickle_out = open('classifier1.pkl','wb')\n",
    "pickle.dump(classifier,pickle_out)\n",
    "pickle_out.close()"
   ]
  },
  {
   "cell_type": "code",
   "execution_count": 63,
   "id": "16cdf96e",
   "metadata": {},
   "outputs": [
    {
     "data": {
      "text/plain": [
       "['DecisionTree_model_saved.joblib']"
      ]
     },
     "execution_count": 63,
     "metadata": {},
     "output_type": "execute_result"
    }
   ],
   "source": [
    "from joblib import dump, load\n",
    "\n",
    "dump(classifier,'DecisionTree_model_saved.joblib')"
   ]
  },
  {
   "cell_type": "code",
   "execution_count": null,
   "id": "06ea71ab",
   "metadata": {},
   "outputs": [],
   "source": []
  },
  {
   "cell_type": "code",
   "execution_count": null,
   "id": "fa665e64",
   "metadata": {},
   "outputs": [],
   "source": []
  }
 ],
 "metadata": {
  "kernelspec": {
   "display_name": "Python 3",
   "language": "python",
   "name": "python3"
  },
  "language_info": {
   "codemirror_mode": {
    "name": "ipython",
    "version": 3
   },
   "file_extension": ".py",
   "mimetype": "text/x-python",
   "name": "python",
   "nbconvert_exporter": "python",
   "pygments_lexer": "ipython3",
   "version": "3.8.8"
  }
 },
 "nbformat": 4,
 "nbformat_minor": 5
}
